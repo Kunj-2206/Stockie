{
 "cells": [
  {
   "cell_type": "code",
   "execution_count": 1,
   "metadata": {},
   "outputs": [
    {
     "name": "stdout",
     "output_type": "stream",
     "text": [
      "Plot saved for Amazon_Price: .\\Amazon_Price_actual_vs_predicted.png\n",
      "Plot saved for Apple_Price: .\\Apple_Price_actual_vs_predicted.png\n",
      "Plot saved for Bitcoin_Price: .\\Bitcoin_Price_actual_vs_predicted.png\n",
      "Plot saved for Ethereum_Price: .\\Ethereum_Price_actual_vs_predicted.png\n",
      "Plot saved for Gold_Price: .\\Gold_Price_actual_vs_predicted.png\n",
      "Plot saved for Google_Price: .\\Google_Price_actual_vs_predicted.png\n",
      "Plot saved for Meta_Price: .\\Meta_Price_actual_vs_predicted.png\n",
      "Plot saved for Microsoft_Price: .\\Microsoft_Price_actual_vs_predicted.png\n",
      "Plot saved for Nvidia_Price: .\\Nvidia_Price_actual_vs_predicted.png\n",
      "Plot saved for Tesla_Price: .\\Tesla_Price_actual_vs_predicted.png\n",
      "Plots generated for all stocks.\n"
     ]
    }
   ],
   "source": [
    "import pandas as pd\n",
    "import matplotlib.pyplot as plt\n",
    "import os\n",
    "\n",
    "# Path to the folder containing prediction CSV files\n",
    "folder_path = \"../../dataset/prediction\"\n",
    "\n",
    "# Output folder for plots\n",
    "output_folder = \".\"\n",
    "os.makedirs(output_folder, exist_ok=True)\n",
    "\n",
    "def plot_actual_vs_predicted(file_path, output_folder):\n",
    "    \"\"\"\n",
    "    Reads a CSV file, processes it, and generates an area plot \n",
    "    for actual and predicted values.\n",
    "\n",
    "    Parameters:\n",
    "    - file_path: Path to the CSV file.\n",
    "    - output_folder: Folder to save the generated plot.\n",
    "    \"\"\"\n",
    "    # Read the dataset\n",
    "    df = pd.read_csv(file_path)\n",
    "    \n",
    "    # Ensure the columns are as expected\n",
    "    required_columns = [\"Date\", \"Price\", \"Data_Type\", \"Stock\"]\n",
    "    if not all(col in df.columns for col in required_columns):\n",
    "        print(f\"Skipping file {file_path}. Columns are not as expected.\")\n",
    "        return\n",
    "\n",
    "    # Convert Date column to datetime\n",
    "    df[\"Date\"] = pd.to_datetime(df[\"Date\"])\n",
    "\n",
    "    # Split into actual and predicted\n",
    "    actual_df = df[df[\"Data_Type\"] == \"actual\"]\n",
    "    predicted_df = df[df[\"Data_Type\"] == \"predicted\"]\n",
    "\n",
    "    # Extract stock name from the dataset\n",
    "    stock_name = df[\"Stock\"].iloc[0]\n",
    "\n",
    "    # Plot actual vs predicted\n",
    "    plt.figure(figsize=(12, 6))\n",
    "    plt.fill_between(actual_df[\"Date\"], actual_df[\"Price\"], color=\"skyblue\", alpha=0.4, label=\"Actual\")\n",
    "    plt.fill_between(predicted_df[\"Date\"], predicted_df[\"Price\"], color=\"lightcoral\", alpha=0.4, label=\"Predicted\")\n",
    "    plt.plot(actual_df[\"Date\"], actual_df[\"Price\"], color=\"blue\", label=\"Actual Prices\", linewidth=2)\n",
    "    plt.plot(predicted_df[\"Date\"], predicted_df[\"Price\"], color=\"red\", linestyle=\"--\", label=\"Predicted Prices\", linewidth=2)\n",
    "    \n",
    "    # Customize plot\n",
    "    plt.title(f\"{stock_name}: Actual vs Predicted Prices\", fontsize=16)\n",
    "    plt.xlabel(\"Date\", fontsize=12)\n",
    "    plt.ylabel(\"Price\", fontsize=12)\n",
    "    plt.legend(fontsize=12)\n",
    "    plt.grid(alpha=0.3)\n",
    "\n",
    "    # Save plot\n",
    "    output_file = os.path.join(output_folder, f\"{stock_name}_actual_vs_predicted.png\")\n",
    "    plt.savefig(output_file, bbox_inches=\"tight\")\n",
    "    plt.close()\n",
    "    print(f\"Plot saved for {stock_name}: {output_file}\")\n",
    "\n",
    "# Iterate over all CSV files in the folder\n",
    "for file_name in os.listdir(folder_path):\n",
    "    if file_name.endswith(\".csv\"):\n",
    "        file_path = os.path.join(folder_path, file_name)\n",
    "        plot_actual_vs_predicted(file_path, output_folder)\n",
    "\n",
    "print(\"Plots generated for all stocks.\")\n"
   ]
  },
  {
   "cell_type": "code",
   "execution_count": null,
   "metadata": {},
   "outputs": [],
   "source": []
  }
 ],
 "metadata": {
  "kernelspec": {
   "display_name": ".venv",
   "language": "python",
   "name": "python3"
  },
  "language_info": {
   "codemirror_mode": {
    "name": "ipython",
    "version": 3
   },
   "file_extension": ".py",
   "mimetype": "text/x-python",
   "name": "python",
   "nbconvert_exporter": "python",
   "pygments_lexer": "ipython3",
   "version": "3.12.8"
  }
 },
 "nbformat": 4,
 "nbformat_minor": 2
}
